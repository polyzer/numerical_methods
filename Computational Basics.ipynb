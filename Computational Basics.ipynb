{
 "cells": [
  {
   "cell_type": "code",
   "execution_count": 1,
   "metadata": {},
   "outputs": [
    {
     "data": {
      "text/plain": [
       "array([-1.4057971 , -0.1884058 ,  0.92753623])"
      ]
     },
     "execution_count": 1,
     "metadata": {},
     "output_type": "execute_result"
    }
   ],
   "source": [
    "import numpy as np\n",
    "from numpy.linalg import solve\n",
    "\n",
    "A = np.array([[1,2,3], [22, 32, 42], [55, 66, 100]])\n",
    "b = np.array([1,2,3])\n",
    "x = solve(A, b)\n",
    "x"
   ]
  },
  {
   "cell_type": "code",
   "execution_count": 2,
   "metadata": {},
   "outputs": [
    {
     "data": {
      "text/plain": [
       "array([[ 1.00000000e+00, -4.30211422e-16, -1.08246745e-15],\n",
       "       [-1.94289029e-16,  1.00000000e+00, -9.99200722e-16],\n",
       "       [ 9.71445147e-17,  4.71844785e-16,  1.00000000e+00]])"
      ]
     },
     "execution_count": 2,
     "metadata": {},
     "output_type": "execute_result"
    }
   ],
   "source": [
    "from numpy.linalg import inv\n",
    "np.dot(inv(A), A)\n"
   ]
  },
  {
   "cell_type": "code",
   "execution_count": 3,
   "metadata": {},
   "outputs": [
    {
     "name": "stdout",
     "output_type": "stream",
     "text": [
      "[130.28974561  -0.6335219    3.34377629]\n",
      "[[ 0.0274338   0.82101394  0.00991786]\n",
      " [ 0.3979758   0.15403247 -0.82841589]\n",
      " [ 0.91698563 -0.5497364   0.56002567]]\n"
     ]
    }
   ],
   "source": [
    "from numpy.linalg import eig\n",
    "I = np.array([[2./3, -1./4], [-1./4, 2./3]])\n",
    "I\n",
    "Es, evectors = eig(A)\n",
    "print(Es)\n",
    "print(evectors)"
   ]
  },
  {
   "cell_type": "code",
   "execution_count": 4,
   "metadata": {},
   "outputs": [
    {
     "name": "stdout",
     "output_type": "stream",
     "text": [
      "[-0.08120475  0.25845875]\n",
      "[ 3.57434229 51.85216565]\n"
     ]
    }
   ],
   "source": [
    "Vec = np.array([evectors[0, 0], evectors[1, 0]])\n",
    "LHS = np.dot(I, Vec)\n",
    "RHS = Es[0]*Vec\n",
    "print(LHS)\n",
    "print(RHS)"
   ]
  },
  {
   "cell_type": "code",
   "execution_count": 6,
   "metadata": {},
   "outputs": [
    {
     "name": "stdout",
     "output_type": "stream",
     "text": [
      "[[ 1.00000000e+00 -3.46944695e-18  5.55111512e-17]\n",
      " [ 2.77555756e-17  1.00000000e+00  2.22044605e-16]\n",
      " [ 2.77555756e-17  0.00000000e+00  1.00000000e+00]]\n",
      "[[ 1.00000000e+00  6.93889390e-18  0.00000000e+00]\n",
      " [-2.77555756e-17  1.00000000e+00  5.55111512e-17]\n",
      " [ 0.00000000e+00 -5.55111512e-17  1.00000000e+00]]\n",
      "262.99999999999983\n"
     ]
    }
   ],
   "source": [
    "#1\n",
    "from numpy.linalg import inv, det\n",
    "A = np.matrix([\n",
    "    [4, -2, 1],\n",
    "    [3, 6, -4],\n",
    "    [2, 1, 8]\n",
    "])\n",
    "A_inv = inv(A)\n",
    "#a\n",
    "print(np.matmul(A_inv, A))\n",
    "print(np.matmul(A,A_inv))\n",
    "\n",
    "print(det(A))"
   ]
  },
  {
   "cell_type": "code",
   "execution_count": 8,
   "metadata": {},
   "outputs": [
    {
     "name": "stdout",
     "output_type": "stream",
     "text": [
      "[ 1. -2.  4.]\n",
      "[0.89353612 0.98859316 2.40304183]\n",
      "[ 2.31939163 -2.96577947  4.79087452]\n"
     ]
    }
   ],
   "source": [
    "#2 Ax = b\n",
    "from numpy.linalg import solve\n",
    "b1 = np.array([12, -25, 32])\n",
    "b2 = np.array([4, -1, 22])\n",
    "b3 = np.array([20, -30, 40])\n",
    "A = np.matrix([\n",
    "    [4, -2, 1],\n",
    "    [3, 6, -4],\n",
    "    [2, 1, 8]\n",
    "])\n",
    "x1 = solve(A, b1)\n",
    "x2 = solve(A, b2)\n",
    "x3 = solve(A, b3)\n",
    "print(x1)\n",
    "print(x2)\n",
    "print(x3)"
   ]
  },
  {
   "cell_type": "code",
   "execution_count": 11,
   "metadata": {},
   "outputs": [
    {
     "name": "stdout",
     "output_type": "stream",
     "text": [
      "[7.+5.j 7.-5.j]\n",
      "[[0.        -0.70710678j 0.        +0.70710678j]\n",
      " [0.70710678+0.j         0.70710678-0.j        ]]\n"
     ]
    }
   ],
   "source": [
    "#3\n",
    "from numpy.linalg import eig\n",
    "A = np.array([\n",
    "    [7, 5],\n",
    "    [-5, 7]\n",
    "])\n",
    "Es, evectors = eig(A)\n",
    "print(Es)\n",
    "print(evectors)"
   ]
  },
  {
   "cell_type": "code",
   "execution_count": 16,
   "metadata": {},
   "outputs": [
    {
     "name": "stdout",
     "output_type": "stream",
     "text": [
      "20*x**3 + 14*x\n",
      "2*(30*x**2 + 7)\n"
     ]
    },
    {
     "data": {
      "text/latex": [
       "$\\displaystyle 1 + \\frac{x^{2}}{2} + \\frac{5 x^{4}}{24} + O\\left(x^{6}\\right)$"
      ],
      "text/plain": [
       "1 + x**2/2 + 5*x**4/24 + O(x**6)"
      ]
     },
     "execution_count": 16,
     "metadata": {},
     "output_type": "execute_result"
    }
   ],
   "source": [
    "#1.2.3\n",
    "from sympy import *\n",
    "x, y = symbols('x y')\n",
    "\n",
    "y = diff(tan(x), x)\n",
    "\n",
    "y = diff(5*x**4 + 7*x**2, x, 1)\n",
    "print(y)\n",
    "\n",
    "y = diff(5*x**4 + 7*x**2, x, 2)\n",
    "print(y)\n",
    "\n",
    "x, y = symbols('x y')\n",
    "z = (x + y)**8\n",
    "expand(z)\n",
    "\n",
    "sin(x).series(x, 0)\n",
    "sin(x).series(x, 10)\n",
    "z = 1/cos(x)\n",
    "z.series(x, 0)\n",
    "\n",
    "factor(x**2 - 1)"
   ]
  },
  {
   "cell_type": "code",
   "execution_count": 43,
   "metadata": {},
   "outputs": [
    {
     "name": "stdout",
     "output_type": "stream",
     "text": [
      "forward:\n",
      "-0.10248212535001446\n",
      "-0.8454775341376193\n",
      "0.5551115123125783\n",
      "1.1045295732168225\n",
      "2.7328566760003854\n",
      "2.93296563153767e+43\n",
      "central:\n",
      "-0.09963539964584739\n",
      "-0.8454775341376193\n",
      "0.3672276158375518\n",
      "1.1045295732168225\n",
      "2.7214697731837174\n",
      "1.9553104210251136e+43\n"
     ]
    }
   ],
   "source": [
    "#Differentiation\n",
    "ta = [0.1, 1.0, 100.0]\n",
    "h = 0.000000000000039\n",
    "def make_forward_diff(func, ta, h):\n",
    "    for t in ta:\n",
    "        val = (func(t+h) - func(t))/h\n",
    "        print(val)\n",
    "\n",
    "def make_central_diff(func, ta, h):\n",
    "    for t in ta:\n",
    "        val = (func(t+h/2) - func(t-h/2))/h\n",
    "        print(val)\n",
    "\n",
    "print(\"forward:\")\n",
    "make_forward_diff(np.cos, ta, h)\n",
    "make_forward_diff(np.exp, ta, h)\n",
    "print(\"central:\")\n",
    "make_central_diff(np.cos, ta, h)\n",
    "make_central_diff(np.exp, ta, h)"
   ]
  },
  {
   "cell_type": "code",
   "execution_count": null,
   "metadata": {},
   "outputs": [],
   "source": [
    "###### "
   ]
  },
  {
   "cell_type": "code",
   "execution_count": null,
   "metadata": {},
   "outputs": [],
   "source": []
  }
 ],
 "metadata": {
  "kernelspec": {
   "display_name": "Python 3",
   "language": "python",
   "name": "python3"
  },
  "language_info": {
   "codemirror_mode": {
    "name": "ipython",
    "version": 3
   },
   "file_extension": ".py",
   "mimetype": "text/x-python",
   "name": "python",
   "nbconvert_exporter": "python",
   "pygments_lexer": "ipython3",
   "version": "3.8.5"
  }
 },
 "nbformat": 4,
 "nbformat_minor": 4
}
