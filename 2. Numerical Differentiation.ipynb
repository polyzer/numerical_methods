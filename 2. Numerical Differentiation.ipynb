{
 "cells": [
  {
   "cell_type": "code",
   "execution_count": null,
   "metadata": {},
   "outputs": [],
   "source": [
    "import numpy as np\n",
    "#Differentiation\n",
    "# forward-difference derivative\n",
    "ta = [0.1, 1.0, 100.0]\n",
    "h = 0.1\n",
    "def make_forward_diff(func, ta, h):\n",
    "    for t in ta:\n",
    "        val = (func(t+h) - func(t))/h\n",
    "        print(val)\n",
    "\n",
    "# central-difference derivative\n",
    "def make_central_diff(func, ta, h):\n",
    "    for t in ta:\n",
    "        val = (func(t+h/2) - func(t-h/2))/h\n",
    "        print(val)\n",
    "\n",
    "print(\"forward:\")\n",
    "make_forward_diff(np.cos, ta, h)\n",
    "make_forward_diff(np.exp, ta, h)\n",
    "print(\"central:\")\n",
    "make_central_diff(np.cos, ta, h)\n",
    "make_central_diff(np.exp, ta, h)\n",
    "\n",
    "#a.Print out the derivative and its relative error E as functions of h\n"
   ]
  }
 ],
 "metadata": {
  "kernelspec": {
   "display_name": "Python 3",
   "language": "python",
   "name": "python3"
  },
  "language_info": {
   "codemirror_mode": {
    "name": "ipython",
    "version": 3
   },
   "file_extension": ".py",
   "mimetype": "text/x-python",
   "name": "python",
   "nbconvert_exporter": "python",
   "pygments_lexer": "ipython3",
   "version": "3.7.6"
  }
 },
 "nbformat": 4,
 "nbformat_minor": 4
}
