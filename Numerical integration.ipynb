{
 "cells": [
  {
   "cell_type": "code",
   "execution_count": 11,
   "metadata": {},
   "outputs": [
    {
     "name": "stdout",
     "output_type": "stream",
     "text": [
      "1.6482417681266126\n"
     ]
    }
   ],
   "source": [
    "import numpy as np\n",
    "#1. trapezoid\n",
    "Ns = [100, 1000, 10000]\n",
    "a_bs = [(-1, 1), (-100, 100), (-1000, 1000)]\n",
    "N = Ns[0]\n",
    "ab = a_bs[0]\n",
    "h = (ab[1] - ab[0])/(N-1)\n",
    "w = [h/2] + [h for i in range(N-2)] + [h/2]\n",
    "x = [ab[0] + i*h for i in range(N)]\n",
    "\n",
    "Integration_value = 0\n",
    "for i in range(N):\n",
    "    Integration_value += w[i]*np.cos(x[i])\n",
    "print(Integration_value)"
   ]
  },
  {
   "cell_type": "code",
   "execution_count": null,
   "metadata": {},
   "outputs": [],
   "source": [
    "import numpy as np\n",
    "#1. trapezoid\n",
    "Ns = [100, 1000, 10000]\n",
    "a_bs = [(-1, 1), (-100, 100), (-1000, 1000)]\n",
    "N = Ns[0]\n",
    "ab = a_bs[0]\n",
    "h = (ab[1] - ab[0])/(N-1)\n",
    "w = [h/2] + [h for i in range(N-2)] + [h/2]\n",
    "x = [ab[0] + i*h for i in range(N)]\n",
    "\n",
    "Integration_value = 0\n",
    "for i in range(N):\n",
    "    Integration_value += w[i]*np.cos(x[i])\n",
    "print(Integration_value)"
   ]
  }
 ],
 "metadata": {
  "kernelspec": {
   "display_name": "Python 3",
   "language": "python",
   "name": "python3"
  },
  "language_info": {
   "codemirror_mode": {
    "name": "ipython",
    "version": 3
   },
   "file_extension": ".py",
   "mimetype": "text/x-python",
   "name": "python",
   "nbconvert_exporter": "python",
   "pygments_lexer": "ipython3",
   "version": "3.7.6"
  }
 },
 "nbformat": 4,
 "nbformat_minor": 4
}
